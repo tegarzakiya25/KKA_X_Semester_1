{
  "nbformat": 4,
  "nbformat_minor": 0,
  "metadata": {
    "colab": {
      "provenance": [],
      "authorship_tag": "ABX9TyMqv+nT0X+7qQRIhT21TkdZ",
      "include_colab_link": true
    },
    "kernelspec": {
      "name": "python3",
      "display_name": "Python 3"
    },
    "language_info": {
      "name": "python"
    }
  },
  "cells": [
    {
      "cell_type": "markdown",
      "metadata": {
        "id": "view-in-github",
        "colab_type": "text"
      },
      "source": [
        "<a href=\"https://colab.research.google.com/github/tegarzakiya25/KKA_X_Semester_1/blob/main/1_fungsi_print_Tegar_zakiya_x_11_.ipynb\" target=\"_parent\"><img src=\"https://colab.research.google.com/assets/colab-badge.svg\" alt=\"Open In Colab\"/></a>"
      ]
    },
    {
      "cell_type": "markdown",
      "source": [],
      "metadata": {
        "id": "iFiSX_6Dif_J"
      }
    },
    {
      "cell_type": "markdown",
      "source": [],
      "metadata": {
        "id": "Fvv_Wtzwi7Yw"
      }
    },
    {
      "cell_type": "markdown",
      "source": [
        "#Fungsi parameter"
      ],
      "metadata": {
        "id": "WCp026B2UX_f"
      }
    },
    {
      "cell_type": "code",
      "execution_count": null,
      "metadata": {
        "colab": {
          "base_uri": "https://localhost:8080/"
        },
        "id": "Jb0Jg--FSnWC",
        "outputId": "6d0f8908-9334-4395-ba37-c7043c9f646d"
      },
      "outputs": [
        {
          "output_type": "stream",
          "name": "stdout",
          "text": [
            "Haidar_Adzka_Daffanes_Adzka\n"
          ]
        }
      ],
      "source": [
        "nama_siswa_1=\"Daffanes\"\n",
        "nama_siswa_2=\"Adzka\"\n",
        "nama_siswa_3=\"Haidar\"\n",
        "print(nama_siswa_3,nama_siswa_2,nama_siswa_1,nama_siswa_2,sep=\"_\")"
      ]
    },
    {
      "cell_type": "code",
      "source": [
        "print(nama_siswa_1)\n",
        "print(nama_siswa_2)"
      ],
      "metadata": {
        "colab": {
          "base_uri": "https://localhost:8080/"
        },
        "id": "I81QJ4LGXeSd",
        "outputId": "6b3d271d-51db-4224-87ad-2e8506dd3d9b"
      },
      "execution_count": null,
      "outputs": [
        {
          "output_type": "stream",
          "name": "stdout",
          "text": [
            "Daffanes\n",
            "Adzka\n"
          ]
        }
      ]
    },
    {
      "cell_type": "code",
      "source": [
        "print(nama_siswa_1,nama_siswa_2)"
      ],
      "metadata": {
        "colab": {
          "base_uri": "https://localhost:8080/"
        },
        "id": "ev4qZIg7X8Xc",
        "outputId": "c505b52b-b38d-4126-8cd0-41023f1fc9fb"
      },
      "execution_count": null,
      "outputs": [
        {
          "output_type": "stream",
          "name": "stdout",
          "text": [
            "Daffanes Adzka\n"
          ]
        }
      ]
    },
    {
      "cell_type": "code",
      "source": [
        "print(nama_siswa_1,end=\"_\")\n",
        "print(nama_siswa_2)"
      ],
      "metadata": {
        "colab": {
          "base_uri": "https://localhost:8080/"
        },
        "id": "z7SdIwB6YId7",
        "outputId": "399b5b0e-162e-49e4-db96-36f2a0bc0758"
      },
      "execution_count": null,
      "outputs": [
        {
          "output_type": "stream",
          "name": "stdout",
          "text": [
            "Daffanes_Adzka\n"
          ]
        }
      ]
    },
    {
      "cell_type": "markdown",
      "source": [
        "#Gunakan parameter end untuk menampilkan tulisan sebagai berikut:Haidar#Adzka#Daffanes#Adzka"
      ],
      "metadata": {
        "id": "MZ4w0n6JYxpN"
      }
    }
  ]
}